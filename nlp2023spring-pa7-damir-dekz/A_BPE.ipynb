{
 "cells": [
  {
   "cell_type": "code",
   "execution_count": 24,
   "id": "e9294afe",
   "metadata": {},
   "outputs": [],
   "source": [
    "corpus = [\n",
    "    'Сатыбалды кеше неше дәптер сатып алды?',\n",
    "    'Сатыбалды кеше неше кептер атып алды?',\n",
    "    'Сатыбалды кеше көп дәптер сатып алды,',\n",
    "    'Сатыбалды кеше көк кептер атып алды.',\n",
    "    'Үш қыз да ұшқыш,',\n",
    "    'Ұшқыш та үш қыз.',\n",
    "    'Үш қыз – ұшқыш,',\n",
    "    'Ұшқыш – үш қыз.',\n",
    "    'Шын айтты ма?',\n",
    "    'Сын айтты ма?',\n",
    "    'Шын айтса да,',\n",
    "    'Сын айтса да,',\n",
    "    'Шыны – сын,',\n",
    "    'Сыны – шын болсын!',\n",
    "]"
   ]
  },
  {
   "cell_type": "code",
   "execution_count": 25,
   "id": "51cadd56",
   "metadata": {},
   "outputs": [],
   "source": [
    "corpus = [x.lower() for x in corpus]"
   ]
  },
  {
   "cell_type": "code",
   "execution_count": 26,
   "id": "05c9acb0",
   "metadata": {},
   "outputs": [
    {
     "data": {
      "text/plain": [
       "['сатыбалды кеше неше дәптер сатып алды?',\n",
       " 'сатыбалды кеше неше кептер атып алды?',\n",
       " 'сатыбалды кеше көп дәптер сатып алды,',\n",
       " 'сатыбалды кеше көк кептер атып алды.',\n",
       " 'үш қыз да ұшқыш,',\n",
       " 'ұшқыш та үш қыз.',\n",
       " 'үш қыз – ұшқыш,',\n",
       " 'ұшқыш – үш қыз.',\n",
       " 'шын айтты ма?',\n",
       " 'сын айтты ма?',\n",
       " 'шын айтса да,',\n",
       " 'сын айтса да,',\n",
       " 'шыны – сын,',\n",
       " 'сыны – шын болсын!']"
      ]
     },
     "execution_count": 26,
     "metadata": {},
     "output_type": "execute_result"
    }
   ],
   "source": [
    "corpus"
   ]
  },
  {
   "cell_type": "code",
   "execution_count": 27,
   "id": "14de83b5",
   "metadata": {},
   "outputs": [],
   "source": [
    "from transformers import AutoTokenizer\n",
    "\n",
    "tokenizer = AutoTokenizer.from_pretrained('bert-base-multilingual-cased')"
   ]
  },
  {
   "cell_type": "code",
   "execution_count": 28,
   "id": "dd870e61",
   "metadata": {},
   "outputs": [
    {
     "name": "stdout",
     "output_type": "stream",
     "text": [
      "defaultdict(<class 'int'>, {'сатыбалды': 4, 'кеше': 4, 'неше': 2, 'дәптер': 2, 'сатып': 2, 'алды': 4, '?': 4, 'кептер': 2, 'атып': 2, 'көп': 1, ',': 6, 'көк': 1, '.': 3, 'үш': 4, 'қыз': 4, 'да': 3, 'ұшқыш': 4, 'та': 1, '–': 4, 'шын': 3, 'айтты': 2, 'ма': 2, 'сын': 3, 'айтса': 2, 'шыны': 1, 'сыны': 1, 'болсын': 1, '!': 1})\n"
     ]
    }
   ],
   "source": [
    "from collections import defaultdict\n",
    "\n",
    "word_freqs = defaultdict(int)\n",
    "\n",
    "for text in corpus:\n",
    "    words_with_offsets = tokenizer.backend_tokenizer.pre_tokenizer.pre_tokenize_str(text)\n",
    "    new_words = [word for word, offset in words_with_offsets]\n",
    "    for word in new_words:\n",
    "        word_freqs[word] += 1\n",
    "\n",
    "print(word_freqs)"
   ]
  },
  {
   "cell_type": "code",
   "execution_count": 29,
   "id": "7b6713a3",
   "metadata": {},
   "outputs": [
    {
     "name": "stdout",
     "output_type": "stream",
     "text": [
      "['!', ',', '.', '?', 'а', 'б', 'д', 'е', 'з', 'й', 'к', 'л', 'м', 'н', 'о', 'п', 'р', 'с', 'т', 'ш', 'ы', 'қ', 'ү', 'ұ', 'ә', 'ө', '–']\n"
     ]
    }
   ],
   "source": [
    "alphabet = []\n",
    "\n",
    "for word in word_freqs.keys():\n",
    "    for letter in word:\n",
    "        if letter not in alphabet:\n",
    "            alphabet.append(letter)\n",
    "alphabet.sort()\n",
    "\n",
    "print(alphabet)"
   ]
  },
  {
   "cell_type": "code",
   "execution_count": 30,
   "id": "887cf804",
   "metadata": {},
   "outputs": [],
   "source": [
    "vocab = [\"_\"] + alphabet.copy()"
   ]
  },
  {
   "cell_type": "code",
   "execution_count": 31,
   "id": "d772daf2",
   "metadata": {},
   "outputs": [
    {
     "data": {
      "text/plain": [
       "['_',\n",
       " '!',\n",
       " ',',\n",
       " '.',\n",
       " '?',\n",
       " 'а',\n",
       " 'б',\n",
       " 'д',\n",
       " 'е',\n",
       " 'з',\n",
       " 'й',\n",
       " 'к',\n",
       " 'л',\n",
       " 'м',\n",
       " 'н',\n",
       " 'о',\n",
       " 'п',\n",
       " 'р',\n",
       " 'с',\n",
       " 'т',\n",
       " 'ш',\n",
       " 'ы',\n",
       " 'қ',\n",
       " 'ү',\n",
       " 'ұ',\n",
       " 'ә',\n",
       " 'ө',\n",
       " '–']"
      ]
     },
     "execution_count": 31,
     "metadata": {},
     "output_type": "execute_result"
    }
   ],
   "source": [
    "vocab"
   ]
  },
  {
   "cell_type": "code",
   "execution_count": 32,
   "id": "458ff9eb",
   "metadata": {},
   "outputs": [],
   "source": [
    "splits = {word: [c for c in word] for word in word_freqs.keys()}"
   ]
  },
  {
   "cell_type": "code",
   "execution_count": 33,
   "id": "ff96428a",
   "metadata": {},
   "outputs": [
    {
     "data": {
      "text/plain": [
       "{'сатыбалды': ['с', 'а', 'т', 'ы', 'б', 'а', 'л', 'д', 'ы'],\n",
       " 'кеше': ['к', 'е', 'ш', 'е'],\n",
       " 'неше': ['н', 'е', 'ш', 'е'],\n",
       " 'дәптер': ['д', 'ә', 'п', 'т', 'е', 'р'],\n",
       " 'сатып': ['с', 'а', 'т', 'ы', 'п'],\n",
       " 'алды': ['а', 'л', 'д', 'ы'],\n",
       " '?': ['?'],\n",
       " 'кептер': ['к', 'е', 'п', 'т', 'е', 'р'],\n",
       " 'атып': ['а', 'т', 'ы', 'п'],\n",
       " 'көп': ['к', 'ө', 'п'],\n",
       " ',': [','],\n",
       " 'көк': ['к', 'ө', 'к'],\n",
       " '.': ['.'],\n",
       " 'үш': ['ү', 'ш'],\n",
       " 'қыз': ['қ', 'ы', 'з'],\n",
       " 'да': ['д', 'а'],\n",
       " 'ұшқыш': ['ұ', 'ш', 'қ', 'ы', 'ш'],\n",
       " 'та': ['т', 'а'],\n",
       " '–': ['–'],\n",
       " 'шын': ['ш', 'ы', 'н'],\n",
       " 'айтты': ['а', 'й', 'т', 'т', 'ы'],\n",
       " 'ма': ['м', 'а'],\n",
       " 'сын': ['с', 'ы', 'н'],\n",
       " 'айтса': ['а', 'й', 'т', 'с', 'а'],\n",
       " 'шыны': ['ш', 'ы', 'н', 'ы'],\n",
       " 'сыны': ['с', 'ы', 'н', 'ы'],\n",
       " 'болсын': ['б', 'о', 'л', 'с', 'ы', 'н'],\n",
       " '!': ['!']}"
      ]
     },
     "execution_count": 33,
     "metadata": {},
     "output_type": "execute_result"
    }
   ],
   "source": [
    "splits"
   ]
  },
  {
   "cell_type": "code",
   "execution_count": 34,
   "id": "0d34d47d",
   "metadata": {},
   "outputs": [],
   "source": [
    "def compute_pair_freqs(splits):\n",
    "    pair_freqs = defaultdict(int)\n",
    "    for word, freq in word_freqs.items():\n",
    "        split = splits[word]\n",
    "        if len(split) == 1:\n",
    "            continue\n",
    "        for i in range(len(split) - 1):\n",
    "            pair = (split[i], split[i + 1])\n",
    "            pair_freqs[pair] += freq\n",
    "    return pair_freqs"
   ]
  },
  {
   "cell_type": "code",
   "execution_count": 35,
   "id": "0a2b6b9a",
   "metadata": {},
   "outputs": [],
   "source": [
    "pair_freqs = compute_pair_freqs(splits)"
   ]
  },
  {
   "cell_type": "code",
   "execution_count": 36,
   "id": "5b218ab0",
   "metadata": {},
   "outputs": [
    {
     "data": {
      "text/plain": [
       "defaultdict(int,\n",
       "            {('с', 'а'): 8,\n",
       "             ('а', 'т'): 8,\n",
       "             ('т', 'ы'): 10,\n",
       "             ('ы', 'б'): 4,\n",
       "             ('б', 'а'): 4,\n",
       "             ('а', 'л'): 8,\n",
       "             ('л', 'д'): 8,\n",
       "             ('д', 'ы'): 8,\n",
       "             ('к', 'е'): 6,\n",
       "             ('е', 'ш'): 6,\n",
       "             ('ш', 'е'): 6,\n",
       "             ('н', 'е'): 2,\n",
       "             ('д', 'ә'): 2,\n",
       "             ('ә', 'п'): 2,\n",
       "             ('п', 'т'): 4,\n",
       "             ('т', 'е'): 4,\n",
       "             ('е', 'р'): 4,\n",
       "             ('ы', 'п'): 4,\n",
       "             ('е', 'п'): 2,\n",
       "             ('к', 'ө'): 2,\n",
       "             ('ө', 'п'): 1,\n",
       "             ('ө', 'к'): 1,\n",
       "             ('ү', 'ш'): 4,\n",
       "             ('қ', 'ы'): 8,\n",
       "             ('ы', 'з'): 4,\n",
       "             ('д', 'а'): 3,\n",
       "             ('ұ', 'ш'): 4,\n",
       "             ('ш', 'қ'): 4,\n",
       "             ('ы', 'ш'): 4,\n",
       "             ('т', 'а'): 1,\n",
       "             ('ш', 'ы'): 4,\n",
       "             ('ы', 'н'): 9,\n",
       "             ('а', 'й'): 4,\n",
       "             ('й', 'т'): 4,\n",
       "             ('т', 'т'): 2,\n",
       "             ('м', 'а'): 2,\n",
       "             ('с', 'ы'): 5,\n",
       "             ('т', 'с'): 2,\n",
       "             ('н', 'ы'): 2,\n",
       "             ('б', 'о'): 1,\n",
       "             ('о', 'л'): 1,\n",
       "             ('л', 'с'): 1})"
      ]
     },
     "execution_count": 36,
     "metadata": {},
     "output_type": "execute_result"
    }
   ],
   "source": [
    "pair_freqs"
   ]
  },
  {
   "cell_type": "code",
   "execution_count": 37,
   "id": "b089b27c",
   "metadata": {},
   "outputs": [
    {
     "name": "stdout",
     "output_type": "stream",
     "text": [
      "1. ('т', 'ы'): 10\n",
      "2. ('ы', 'н'): 9\n",
      "3. ('с', 'а'): 8\n",
      "4. ('а', 'т'): 8\n",
      "5. ('а', 'л'): 8\n",
      "6. ('л', 'д'): 8\n",
      "7. ('д', 'ы'): 8\n",
      "8. ('қ', 'ы'): 8\n",
      "9. ('к', 'е'): 6\n",
      "10. ('е', 'ш'): 6\n",
      "11. ('ш', 'е'): 6\n",
      "12. ('с', 'ы'): 5\n",
      "13. ('ы', 'б'): 4\n",
      "14. ('б', 'а'): 4\n",
      "15. ('п', 'т'): 4\n",
      "16. ('т', 'е'): 4\n",
      "17. ('е', 'р'): 4\n",
      "18. ('ы', 'п'): 4\n",
      "19. ('ү', 'ш'): 4\n",
      "20. ('ы', 'з'): 4\n",
      "21. ('ұ', 'ш'): 4\n",
      "22. ('ш', 'қ'): 4\n",
      "23. ('ы', 'ш'): 4\n",
      "24. ('ш', 'ы'): 4\n",
      "25. ('а', 'й'): 4\n",
      "26. ('й', 'т'): 4\n",
      "27. ('д', 'а'): 3\n",
      "28. ('н', 'е'): 2\n",
      "29. ('д', 'ә'): 2\n",
      "30. ('ә', 'п'): 2\n",
      "31. ('е', 'п'): 2\n",
      "32. ('к', 'ө'): 2\n",
      "33. ('т', 'т'): 2\n",
      "34. ('м', 'а'): 2\n",
      "35. ('т', 'с'): 2\n",
      "36. ('н', 'ы'): 2\n",
      "37. ('ө', 'п'): 1\n",
      "38. ('ө', 'к'): 1\n",
      "39. ('т', 'а'): 1\n",
      "40. ('б', 'о'): 1\n",
      "41. ('о', 'л'): 1\n",
      "42. ('л', 'с'): 1\n"
     ]
    }
   ],
   "source": [
    "sorted_pairs = sorted(pair_freqs.items(), key=lambda x: x[1], reverse=True)\n",
    "\n",
    "# Iterate through the sorted pairs and print them out\n",
    "for i, pair in enumerate(sorted_pairs):\n",
    "    print(f\"{i+1}. {pair[0]}: {pair[1]}\")"
   ]
  },
  {
   "cell_type": "code",
   "execution_count": 38,
   "id": "0656d868",
   "metadata": {},
   "outputs": [
    {
     "name": "stdout",
     "output_type": "stream",
     "text": [
      "('т', 'ы') 10\n"
     ]
    }
   ],
   "source": [
    "best_pair = \"\"\n",
    "max_freq = None\n",
    "\n",
    "for pair, freq in pair_freqs.items():\n",
    "    if max_freq is None or max_freq < freq:\n",
    "        best_pair = pair\n",
    "        max_freq = freq\n",
    "\n",
    "print(best_pair, max_freq)"
   ]
  },
  {
   "cell_type": "code",
   "execution_count": 39,
   "id": "ab12df6a",
   "metadata": {},
   "outputs": [],
   "source": [
    "merges = {('т', 'ы'): \"ты\"}\n",
    "vocab.append(\"ты\")"
   ]
  },
  {
   "cell_type": "code",
   "execution_count": 40,
   "id": "084d5a3c",
   "metadata": {},
   "outputs": [],
   "source": [
    "def merge_pair(a, b, splits):\n",
    "    for word in word_freqs:\n",
    "        split = splits[word]\n",
    "        if len(split) == 1:\n",
    "            continue\n",
    "\n",
    "        i = 0\n",
    "        while i < len(split) - 1:\n",
    "            if split[i] == a and split[i + 1] == b:\n",
    "                split = split[:i] + [a + b] + split[i + 2 :]\n",
    "            else:\n",
    "                i += 1\n",
    "        splits[word] = split\n",
    "    return splits"
   ]
  },
  {
   "cell_type": "code",
   "execution_count": 41,
   "id": "3d0af36b",
   "metadata": {},
   "outputs": [
    {
     "data": {
      "text/plain": [
       "['_',\n",
       " '!',\n",
       " ',',\n",
       " '.',\n",
       " '?',\n",
       " 'а',\n",
       " 'б',\n",
       " 'д',\n",
       " 'е',\n",
       " 'з',\n",
       " 'й',\n",
       " 'к',\n",
       " 'л',\n",
       " 'м',\n",
       " 'н',\n",
       " 'о',\n",
       " 'п',\n",
       " 'р',\n",
       " 'с',\n",
       " 'т',\n",
       " 'ш',\n",
       " 'ы',\n",
       " 'қ',\n",
       " 'ү',\n",
       " 'ұ',\n",
       " 'ә',\n",
       " 'ө',\n",
       " '–',\n",
       " 'ты']"
      ]
     },
     "execution_count": 41,
     "metadata": {},
     "output_type": "execute_result"
    }
   ],
   "source": [
    "vocab"
   ]
  },
  {
   "cell_type": "code",
   "execution_count": 42,
   "id": "ba424c5c",
   "metadata": {},
   "outputs": [
    {
     "name": "stdout",
     "output_type": "stream",
     "text": [
      "['с', 'а', 'ты', 'б', 'а', 'л', 'д', 'ы']\n"
     ]
    }
   ],
   "source": [
    "splits = merge_pair(\"т\", \"ы\", splits)\n",
    "print(splits[\"сатыбалды\"])"
   ]
  },
  {
   "cell_type": "code",
   "execution_count": 59,
   "id": "d53bfcc0",
   "metadata": {},
   "outputs": [],
   "source": [
    "vocab_size = 41\n",
    "\n",
    "while len(vocab) < vocab_size:\n",
    "    pair_freqs = compute_pair_freqs(splits)\n",
    "    best_pair = \"\"\n",
    "    max_freq = None\n",
    "    for pair, freq in pair_freqs.items():\n",
    "        if max_freq is None or max_freq < freq:\n",
    "            best_pair = pair\n",
    "            max_freq = freq\n",
    "    splits = merge_pair(*best_pair, splits)\n",
    "    merges[best_pair] = best_pair[0] + best_pair[1]\n",
    "    vocab.append(best_pair[0] + best_pair[1])"
   ]
  },
  {
   "cell_type": "code",
   "execution_count": 60,
   "id": "3f666d9f",
   "metadata": {},
   "outputs": [
    {
     "data": {
      "text/plain": [
       "['_',\n",
       " '!',\n",
       " ',',\n",
       " '.',\n",
       " '?',\n",
       " 'а',\n",
       " 'б',\n",
       " 'д',\n",
       " 'е',\n",
       " 'з',\n",
       " 'й',\n",
       " 'к',\n",
       " 'л',\n",
       " 'м',\n",
       " 'н',\n",
       " 'о',\n",
       " 'п',\n",
       " 'р',\n",
       " 'с',\n",
       " 'т',\n",
       " 'ш',\n",
       " 'ы',\n",
       " 'қ',\n",
       " 'ү',\n",
       " 'ұ',\n",
       " 'ә',\n",
       " 'ө',\n",
       " '–',\n",
       " 'ты',\n",
       " 'ын',\n",
       " 'са',\n",
       " 'ал',\n",
       " 'алд',\n",
       " 'алды',\n",
       " 'қы',\n",
       " 'саты',\n",
       " 'ке',\n",
       " 'ше',\n",
       " 'сын',\n",
       " 'сатыб',\n",
       " 'сатыбалды']"
      ]
     },
     "execution_count": 60,
     "metadata": {},
     "output_type": "execute_result"
    }
   ],
   "source": [
    "vocab"
   ]
  },
  {
   "cell_type": "code",
   "execution_count": 61,
   "id": "8cc3810a",
   "metadata": {},
   "outputs": [
    {
     "data": {
      "text/plain": [
       "41"
      ]
     },
     "execution_count": 61,
     "metadata": {},
     "output_type": "execute_result"
    }
   ],
   "source": [
    "len(vocab)"
   ]
  },
  {
   "cell_type": "code",
   "execution_count": 62,
   "id": "e950f819",
   "metadata": {},
   "outputs": [
    {
     "data": {
      "text/plain": [
       "{'сатыбалды': ['сатыбалды'],\n",
       " 'кеше': ['ке', 'ше'],\n",
       " 'неше': ['н', 'е', 'ше'],\n",
       " 'дәптер': ['д', 'ә', 'п', 'т', 'е', 'р'],\n",
       " 'сатып': ['саты', 'п'],\n",
       " 'алды': ['алды'],\n",
       " '?': ['?'],\n",
       " 'кептер': ['ке', 'п', 'т', 'е', 'р'],\n",
       " 'атып': ['а', 'ты', 'п'],\n",
       " 'көп': ['к', 'ө', 'п'],\n",
       " ',': [','],\n",
       " 'көк': ['к', 'ө', 'к'],\n",
       " '.': ['.'],\n",
       " 'үш': ['ү', 'ш'],\n",
       " 'қыз': ['қы', 'з'],\n",
       " 'да': ['д', 'а'],\n",
       " 'ұшқыш': ['ұ', 'ш', 'қы', 'ш'],\n",
       " 'та': ['т', 'а'],\n",
       " '–': ['–'],\n",
       " 'шын': ['ш', 'ын'],\n",
       " 'айтты': ['а', 'й', 'т', 'ты'],\n",
       " 'ма': ['м', 'а'],\n",
       " 'сын': ['сын'],\n",
       " 'айтса': ['а', 'й', 'т', 'са'],\n",
       " 'шыны': ['ш', 'ын', 'ы'],\n",
       " 'сыны': ['сын', 'ы'],\n",
       " 'болсын': ['б', 'о', 'л', 'сын'],\n",
       " '!': ['!']}"
      ]
     },
     "execution_count": 62,
     "metadata": {},
     "output_type": "execute_result"
    }
   ],
   "source": [
    "splits"
   ]
  },
  {
   "cell_type": "code",
   "execution_count": 296,
   "id": "0b30796f",
   "metadata": {},
   "outputs": [
    {
     "data": {
      "text/plain": [
       "{('т', 'ы'): 'ты',\n",
       " ('ы', 'н'): 'ын',\n",
       " ('с', 'а'): 'са',\n",
       " ('а', 'л'): 'ал',\n",
       " ('ал', 'д'): 'алд',\n",
       " ('алд', 'ы'): 'алды',\n",
       " ('қ', 'ы'): 'қы',\n",
       " ('са', 'ты'): 'саты',\n",
       " ('к', 'е'): 'ке',\n",
       " ('ш', 'е'): 'ше',\n",
       " ('с', 'ын'): 'сын',\n",
       " ('саты', 'б'): 'сатыб',\n",
       " ('сатыб', 'алды'): 'сатыбалды',\n",
       " ('ке', 'ше'): 'кеше',\n",
       " ('п', 'т'): 'пт',\n",
       " ('пт', 'е'): 'пте',\n",
       " ('пте', 'р'): 'птер',\n",
       " ('ү', 'ш'): 'үш',\n",
       " ('қы', 'з'): 'қыз',\n",
       " ('ұ', 'ш'): 'ұш',\n",
       " ('ұш', 'қы'): 'ұшқы',\n",
       " ('ұшқы', 'ш'): 'ұшқыш',\n",
       " ('ш', 'ын'): 'шын',\n",
       " ('а', 'й'): 'ай',\n",
       " ('ай', 'т'): 'айт',\n",
       " ('д', 'а'): 'да',\n",
       " ('н', 'е'): 'не',\n",
       " ('не', 'ше'): 'неше',\n",
       " ('д', 'ә'): 'дә',\n",
       " ('дә', 'птер'): 'дәптер',\n",
       " ('саты', 'п'): 'сатып',\n",
       " ('ке', 'птер'): 'кептер',\n",
       " ('а', 'ты'): 'аты',\n",
       " ('аты', 'п'): 'атып',\n",
       " ('к', 'ө'): 'кө',\n",
       " ('айт', 'ты'): 'айтты',\n",
       " ('м', 'а'): 'ма',\n",
       " ('айт', 'са'): 'айтса',\n",
       " ('кө', 'п'): 'көп',\n",
       " ('кө', 'к'): 'көк',\n",
       " ('т', 'а'): 'та',\n",
       " ('шын', 'ы'): 'шыны',\n",
       " ('сын', 'ы'): 'сыны',\n",
       " ('б', 'о'): 'бо',\n",
       " ('бо', 'л'): 'бол'}"
      ]
     },
     "execution_count": 296,
     "metadata": {},
     "output_type": "execute_result"
    }
   ],
   "source": [
    "merges"
   ]
  },
  {
   "cell_type": "code",
   "execution_count": 51,
   "id": "10542fb7",
   "metadata": {},
   "outputs": [],
   "source": [
    "def tokenize(text):\n",
    "    pre_tokenize_result = tokenizer._tokenizer.pre_tokenizer.pre_tokenize_str(text)\n",
    "    pre_tokenized_text = [word for word, offset in pre_tokenize_result]\n",
    "    splits = [[l for l in word] for word in pre_tokenized_text]\n",
    "    for pair, merge in merges.items():\n",
    "        for idx, split in enumerate(splits):\n",
    "            i = 0\n",
    "            while i < len(split) - 1:\n",
    "                if split[i] == pair[0] and split[i + 1] == pair[1]:\n",
    "                    split = split[:i] + [merge] + split[i + 2 :]\n",
    "                else:\n",
    "                    i += 1\n",
    "            splits[idx] = split\n",
    "\n",
    "    return sum(splits, [])"
   ]
  },
  {
   "cell_type": "code",
   "execution_count": 52,
   "id": "64771415",
   "metadata": {},
   "outputs": [
    {
     "data": {
      "text/plain": [
       "{'сатыбалды': ['саты', 'б', 'алды'],\n",
       " 'кеше': ['ке', 'ше'],\n",
       " 'неше': ['н', 'е', 'ше'],\n",
       " 'дәптер': ['д', 'ә', 'п', 'т', 'е', 'р'],\n",
       " 'сатып': ['саты', 'п'],\n",
       " 'алды': ['алды'],\n",
       " '?': ['?'],\n",
       " 'кептер': ['ке', 'п', 'т', 'е', 'р'],\n",
       " 'атып': ['а', 'ты', 'п'],\n",
       " 'көп': ['к', 'ө', 'п'],\n",
       " ',': [','],\n",
       " 'көк': ['к', 'ө', 'к'],\n",
       " '.': ['.'],\n",
       " 'үш': ['ү', 'ш'],\n",
       " 'қыз': ['қы', 'з'],\n",
       " 'да': ['д', 'а'],\n",
       " 'ұшқыш': ['ұ', 'ш', 'қы', 'ш'],\n",
       " 'та': ['т', 'а'],\n",
       " '–': ['–'],\n",
       " 'шын': ['ш', 'ын'],\n",
       " 'айтты': ['а', 'й', 'т', 'ты'],\n",
       " 'ма': ['м', 'а'],\n",
       " 'сын': ['с', 'ын'],\n",
       " 'айтса': ['а', 'й', 'т', 'са'],\n",
       " 'шыны': ['ш', 'ын', 'ы'],\n",
       " 'сыны': ['с', 'ын', 'ы'],\n",
       " 'болсын': ['б', 'о', 'л', 'с', 'ын'],\n",
       " '!': ['!']}"
      ]
     },
     "execution_count": 52,
     "metadata": {},
     "output_type": "execute_result"
    }
   ],
   "source": [
    "splits"
   ]
  },
  {
   "cell_type": "code",
   "execution_count": 291,
   "id": "4b1b44d1",
   "metadata": {},
   "outputs": [
    {
     "name": "stdout",
     "output_type": "stream",
     "text": [
      "['сатыбалды', 'кеше', 'неше', 'дәптер', 'сатып', 'алды', '?']\n",
      "['сатыбалды', 'кеше', 'неше', 'кептер', 'атып', 'алды', '?']\n",
      "['сатыбалды', 'кеше', 'көп', 'дәптер', 'сатып', 'алды', ',']\n",
      "['сатыбалды', 'кеше', 'көк', 'кептер', 'атып', 'алды', '.']\n",
      "['үш', 'қыз', 'да', 'ұшқыш', ',']\n",
      "['ұшқыш', 'та', 'үш', 'қыз', '.']\n",
      "['үш', 'қыз', '–', 'ұшқыш', ',']\n",
      "['ұшқыш', '–', 'үш', 'қыз', '.']\n",
      "['шын', 'айтты', 'ма', '?']\n",
      "['сын', 'айтты', 'ма', '?']\n",
      "['шын', 'айтса', 'да', ',']\n",
      "['сын', 'айтса', 'да', ',']\n",
      "['шыны', '–', 'сын', ',']\n",
      "['сыны', '–', 'шын', 'бол', 'сын', '!']\n"
     ]
    }
   ],
   "source": [
    "for i in corpus:\n",
    "    print(tokenize(i))"
   ]
  },
  {
   "cell_type": "code",
   "execution_count": null,
   "id": "165efb57",
   "metadata": {},
   "outputs": [],
   "source": []
  }
 ],
 "metadata": {
  "kernelspec": {
   "display_name": "Python 3 (ipykernel)",
   "language": "python",
   "name": "python3"
  },
  "language_info": {
   "codemirror_mode": {
    "name": "ipython",
    "version": 3
   },
   "file_extension": ".py",
   "mimetype": "text/x-python",
   "name": "python",
   "nbconvert_exporter": "python",
   "pygments_lexer": "ipython3",
   "version": "3.9.12"
  }
 },
 "nbformat": 4,
 "nbformat_minor": 5
}
